{
 "cells": [
  {
   "cell_type": "code",
   "execution_count": 7,
   "metadata": {},
   "outputs": [],
   "source": [
    "import os\n",
    "import sys\n",
    "import numpy as np\n",
    "import pandas as pd\n",
    "from matplotlib import pyplot as plt\n",
    "import seaborn as sns\n",
    "from sklearn.model_selection import train_test_split\n",
    "from sklearn.tree import DecisionTreeClassifier, export_graphviz\n",
    "from sklearn import metrics "
   ]
  },
  {
   "cell_type": "code",
   "execution_count": 9,
   "metadata": {},
   "outputs": [
    {
     "name": "stdout",
     "output_type": "stream",
     "text": [
      "<class 'pandas.core.frame.DataFrame'>\n",
      "RangeIndex: 1200 entries, 0 to 1199\n",
      "Columns: 137 entries, x0 to smiling\n",
      "dtypes: float64(136), int64(1)\n",
      "memory usage: 1.3 MB\n"
     ]
    }
   ],
   "source": [
    "#a\n",
    "train_path = os.path.join(os.getcwd(), 'data', 'faces_train_data.csv')\n",
    "train = pd.read_csv(train_path, delimiter = ',')\n",
    "test_path = os.path.join(os.getcwd(), 'data', 'faces_test_data.csv')\n",
    "test = pd.read_csv(test_path, delimiter = ',')\n",
    "test.info()"
   ]
  },
  {
   "cell_type": "code",
   "execution_count": 4,
   "metadata": {},
   "outputs": [
    {
     "data": {
      "image/png": "[encoded data removed]",
      "text/plain": [
       "<Figure size 576x360 with 1 Axes>"
      ]
     },
     "metadata": {
      "needs_background": "light"
     },
     "output_type": "display_data"
    }
   ],
   "source": [
    "#b\n",
    "train_data = train.loc[:,:].values\n",
    "ysize = len(train_data[:,0]) #4800\n",
    "xsize = len(train_data[0,:]) #137\n",
    "smiling1 = train_data[train_data[:,xsize-1]==1]\n",
    "smiling0 = train_data[train_data[:,xsize-1]==0]\n",
    "smiling1 = np.delete(smiling1, xsize-1, axis=1)\n",
    "smiling0 = np.delete(smiling0, xsize-1, axis=1)\n",
    "a1 = np.mean(smiling1, axis=0)\n",
    "a0 = np.mean(smiling0, axis=0)\n",
    "x1,y1,x0,y0 = [],[],[],[]\n",
    "for i in range(0,len(a1),2):\n",
    "    x1 = np.append(x1, a1[i])\n",
    "    y1 = np.append(y1, a1[i+1])\n",
    "    x0 = np.append(x0, a0[i])\n",
    "    y0 = np.append(y0, a0[i+1])\n",
    "plt.figure(figsize=(8,5))    \n",
    "plt.scatter(x1, y1, color=\"purple\", label='smiling = 1')  \n",
    "plt.scatter(x0, y0, color=\"orange\", label='smiling = 0') \n",
    "plt.xlabel('x')\n",
    "plt.ylabel('y')\n",
    "plt.legend(loc='lower right')\n",
    "plt.title(\"Smiling and Not Smiling\")\n",
    "plt.show()    "
   ]
  },
  {
   "cell_type": "code",
   "execution_count": 5,
   "metadata": {},
   "outputs": [
    {
     "name": "stdout",
     "output_type": "stream",
     "text": [
      "Maximum depth = 2: Training Accuracy: 79.48%, Test Accuracy: 78.17%\n",
      "Maximum depth = 8: Training Accuracy: 93.35%, Test Accuracy: 84.08%\n",
      "Maximum depth = 20: Training Accuracy: 100.00%, Test Accuracy: 81.58%\n"
     ]
    }
   ],
   "source": [
    "#e\n",
    "#max_depth=2\n",
    "x_train = train.drop('smiling', axis=1)\n",
    "x_test = test.drop('smiling', axis=1)\n",
    "y_train = train.smiling\n",
    "y_test = test.smiling\n",
    "clf = DecisionTreeClassifier(max_depth=2, random_state=2001)\n",
    "clf.fit(x_train, y_train)\n",
    "y_train_pred = clf.predict(x_train)\n",
    "train_accuracy1 = metrics.accuracy_score(y_train, y_train_pred)\n",
    "y_test_pred = clf.predict(x_test)\n",
    "test_accuracy1 = metrics.accuracy_score(y_test, y_test_pred)\n",
    "print(\"Maximum depth = 2: Training Accuracy: {0:.2f}%,\".format(train_accuracy1 * 100), \"Test Accuracy: {0:.2f}%\".format(test_accuracy1 * 100))\n",
    "\n",
    "#max_depth=8\n",
    "clf8 = DecisionTreeClassifier(max_depth=8, random_state=2001)\n",
    "clf8.fit(x_train, y_train)\n",
    "y_train_pred = clf8.predict(x_train)\n",
    "train_accuracy2 = metrics.accuracy_score(y_train, y_train_pred)\n",
    "y_test_pred = clf8.predict(x_test)\n",
    "test_accuracy2 = metrics.accuracy_score(y_test, y_test_pred)\n",
    "print(\"Maximum depth = 8: \" \"Training Accuracy: {0:.2f}%,\".format(train_accuracy2 * 100), \"Test Accuracy: {0:.2f}%\".format(test_accuracy2 * 100))\n",
    "\n",
    "#max_depth=20\n",
    "clf = DecisionTreeClassifier(max_depth=20, random_state=2001)\n",
    "clf.fit(x_train, y_train)\n",
    "y_train_pred = clf.predict(x_train)\n",
    "train_accuracy3 = metrics.accuracy_score(y_train, y_train_pred)\n",
    "y_test_pred = clf.predict(x_test)\n",
    "test_accuracy3 = metrics.accuracy_score(y_test, y_test_pred)\n",
    "print(\"Maximum depth = 20: \" \"Training Accuracy: {0:.2f}%,\".format(train_accuracy3 * 100), \"Test Accuracy: {0:.2f}%\".format(test_accuracy3 * 100))\n"
   ]
  },
  {
   "cell_type": "code",
   "execution_count": 6,
   "metadata": {},
   "outputs": [
    {
     "data": {
      "text/plain": [
       "[(0.33040484928175073, 'x50'),\n",
       " (0.08995881431599788, 'y48'),\n",
       " (0.08831447209293988, 'y29')]"
      ]
     },
     "execution_count": 6,
     "metadata": {},
     "output_type": "execute_result"
    }
   ],
   "source": [
    "#f\n",
    "sorted(list(zip(clf8.feature_importances_, train.columns)), reverse=True)[:3]"
   ]
  },
  {
   "cell_type": "code",
   "execution_count": null,
   "metadata": {},
   "outputs": [],
   "source": []
  }
 ],
 "metadata": {
  "kernelspec": {
   "display_name": "Python 3",
   "language": "python",
   "name": "python3"
  },
  "language_info": {
   "codemirror_mode": {
    "name": "ipython",
    "version": 3
   },
   "file_extension": ".py",
   "mimetype": "text/x-python",
   "name": "python",
   "nbconvert_exporter": "python",
   "pygments_lexer": "ipython3",
   "version": "3.7.7"
  }
 },
 "nbformat": 4,
 "nbformat_minor": 4
}
