{
 "cells": [
  {
   "cell_type": "code",
   "execution_count": 28,
   "metadata": {},
   "outputs": [],
   "source": [
    "import os\n",
    "import sys\n",
    "import numpy as np\n",
    "import pandas as pd\n",
    "from matplotlib import pyplot as plt\n",
    "import seaborn as sns\n",
    "from sklearn.linear_model import LinearRegression\n",
    "from sklearn.metrics import mean_squared_error"
   ]
  },
  {
   "cell_type": "code",
   "execution_count": 29,
   "metadata": {
    "scrolled": true
   },
   "outputs": [
    {
     "name": "stdout",
     "output_type": "stream",
     "text": [
      "The basic information about the variables:\n",
      "<class 'pandas.core.frame.DataFrame'>\n",
      "RangeIndex: 50 entries, 0 to 49\n",
      "Data columns (total 3 columns):\n",
      "pre_pend         50 non-null int64\n",
      "revision_time    50 non-null float64\n",
      "exam_score       50 non-null float64\n",
      "dtypes: float64(2), int64(1)\n",
      "memory usage: 1.2 KB\n"
     ]
    },
    {
     "data": {
      "text/plain": [
       "None"
      ]
     },
     "metadata": {},
     "output_type": "display_data"
    },
    {
     "name": "stdout",
     "output_type": "stream",
     "text": [
      "The summary statistics of the data:\n"
     ]
    },
    {
     "data": {
      "text/html": [
       "<div>\n",
       "<style scoped>\n",
       "    .dataframe tbody tr th:only-of-type {\n",
       "        vertical-align: middle;\n",
       "    }\n",
       "\n",
       "    .dataframe tbody tr th {\n",
       "        vertical-align: top;\n",
       "    }\n",
       "\n",
       "    .dataframe thead th {\n",
       "        text-align: right;\n",
       "    }\n",
       "</style>\n",
       "<table border=\"1\" class=\"dataframe\">\n",
       "  <thead>\n",
       "    <tr style=\"text-align: right;\">\n",
       "      <th></th>\n",
       "      <th>pre_pend</th>\n",
       "      <th>revision_time</th>\n",
       "      <th>exam_score</th>\n",
       "    </tr>\n",
       "  </thead>\n",
       "  <tbody>\n",
       "    <tr>\n",
       "      <th>count</th>\n",
       "      <td>50.0</td>\n",
       "      <td>50.000000</td>\n",
       "      <td>50.000000</td>\n",
       "    </tr>\n",
       "    <tr>\n",
       "      <th>mean</th>\n",
       "      <td>1.0</td>\n",
       "      <td>22.220020</td>\n",
       "      <td>49.919860</td>\n",
       "    </tr>\n",
       "    <tr>\n",
       "      <th>std</th>\n",
       "      <td>0.0</td>\n",
       "      <td>13.986112</td>\n",
       "      <td>20.925594</td>\n",
       "    </tr>\n",
       "    <tr>\n",
       "      <th>min</th>\n",
       "      <td>1.0</td>\n",
       "      <td>2.723000</td>\n",
       "      <td>14.731000</td>\n",
       "    </tr>\n",
       "    <tr>\n",
       "      <th>25%</th>\n",
       "      <td>1.0</td>\n",
       "      <td>8.570500</td>\n",
       "      <td>32.125000</td>\n",
       "    </tr>\n",
       "    <tr>\n",
       "      <th>50%</th>\n",
       "      <td>1.0</td>\n",
       "      <td>21.688000</td>\n",
       "      <td>47.830500</td>\n",
       "    </tr>\n",
       "    <tr>\n",
       "      <th>75%</th>\n",
       "      <td>1.0</td>\n",
       "      <td>32.257500</td>\n",
       "      <td>65.069750</td>\n",
       "    </tr>\n",
       "    <tr>\n",
       "      <th>max</th>\n",
       "      <td>1.0</td>\n",
       "      <td>48.011000</td>\n",
       "      <td>94.945000</td>\n",
       "    </tr>\n",
       "  </tbody>\n",
       "</table>\n",
       "</div>"
      ],
      "text/plain": [
       "       pre_pend  revision_time  exam_score\n",
       "count      50.0      50.000000   50.000000\n",
       "mean        1.0      22.220020   49.919860\n",
       "std         0.0      13.986112   20.925594\n",
       "min         1.0       2.723000   14.731000\n",
       "25%         1.0       8.570500   32.125000\n",
       "50%         1.0      21.688000   47.830500\n",
       "75%         1.0      32.257500   65.069750\n",
       "max         1.0      48.011000   94.945000"
      ]
     },
     "metadata": {},
     "output_type": "display_data"
    }
   ],
   "source": [
    "#a\n",
    "regression_path = os.path.join(os.getcwd(), 'data', 'regression_part1.csv')\n",
    "regression = pd.read_csv(regression_path)\n",
    "regression.insert(0,'pre_pend',1)\n",
    "print(\"The basic information about the variables:\")\n",
    "display(regression.info())\n",
    "print(\"The summary statistics of the data:\")\n",
    "display(regression.describe())"
   ]
  },
  {
   "cell_type": "code",
   "execution_count": 30,
   "metadata": {},
   "outputs": [
    {
     "name": "stdout",
     "output_type": "stream",
     "text": [
      "[0.0, array([17.89768026,  1.44114091])]\n"
     ]
    }
   ],
   "source": [
    "#b\n",
    "data = regression.copy(deep=True)\n",
    "X = data[['pre_pend','revision_time']]\n",
    "y = data['exam_score']\n",
    "lm = LinearRegression(fit_intercept=False, normalize=True, copy_X=True, n_jobs=1)    \n",
    "lm.fit(X, y)\n",
    "parameters = [lm.intercept_, lm.coef_]\n",
    "print(parameters)"
   ]
  },
  {
   "cell_type": "code",
   "execution_count": 31,
   "metadata": {},
   "outputs": [
    {
     "data": {
      "image/png": "[encoded data removed]",
      "text/plain": [
       "<Figure size 576x432 with 1 Axes>"
      ]
     },
     "metadata": {
      "needs_background": "light"
     },
     "output_type": "display_data"
    }
   ],
   "source": [
    "#c\n",
    "data = regression.sort_values(by=['revision_time'])\n",
    "X0 = data['revision_time'][:,np.newaxis]\n",
    "y0 = data['exam_score'][:,np.newaxis]\n",
    "lm = LinearRegression(fit_intercept=True, normalize=True, copy_X=True, n_jobs=1)    \n",
    "lm.fit(X0, y0)\n",
    "plt.figure(figsize=(8,6))\n",
    "plt.scatter(X0, y0, label='training data', color='orange')\n",
    "y_pred = lm.predict(X0)\n",
    "plt.plot(X0, y_pred, color='purple', label='regression line')\n",
    "plt.xlabel(\"revision_time\")\n",
    "plt.ylabel(\"exam_score\")\n",
    "plt.title('Relationship between revision time and exam score')\n",
    "plt.legend(loc='upper left')\n",
    "plt.show()"
   ]
  },
  {
   "cell_type": "code",
   "execution_count": 32,
   "metadata": {},
   "outputs": [
    {
     "name": "stdout",
     "output_type": "stream",
     "text": [
      "[17.89768026  1.44114091]\n"
     ]
    }
   ],
   "source": [
    "#d\n",
    "#m = (len(X0) * np.sum(X0 * y0) - np.sum(X0) * np.sum(y0)) / (len(X0) * np.sum(X0 * X0) - np.sum(X0) ** 2)\n",
    "#b = (np.sum(y0) - m * np.sum(X0)) / len(X0)\n",
    "#w = [b,m]\n",
    "w = np.dot(np.linalg.inv(X.T.dot(X)), X.T.dot(y))\n",
    "\n",
    "print(w)"
   ]
  },
  {
   "cell_type": "code",
   "execution_count": 33,
   "metadata": {},
   "outputs": [
    {
     "name": "stdout",
     "output_type": "stream",
     "text": [
      "Mean squared error using scikit-learn:  30.98547261454129\n",
      "Mean squared error using closed-form:  30.985472614541287\n"
     ]
    }
   ],
   "source": [
    "#f\n",
    "print(\"Mean squared error using scikit-learn: \" ,mean_squared_error(y, y_pred))\n",
    "MSE = mean_squared_error(y, X.dot(w))\n",
    "print(\"Mean squared error using closed-form: \" , MSE)"
   ]
  },
  {
   "cell_type": "code",
   "execution_count": 36,
   "metadata": {},
   "outputs": [
    {
     "data": {
      "image/png": "[encoded data removed]",
      "text/plain": [
       "<Figure size 576x432 with 1 Axes>"
      ]
     },
     "metadata": {
      "needs_background": "light"
     },
     "output_type": "display_data"
    },
    {
     "name": "stdout",
     "output_type": "stream",
     "text": [
      "Minima: 32.48096161535148\n",
      "Index at minima: 1.3535353535353538\n"
     ]
    }
   ],
   "source": [
    "#g\n",
    "w1 = np.linspace(-2,2,100)\n",
    "pred = [20 + X0 * i for i in w1]\n",
    "MSE = [np.sum((y0-i)**2)/len(y0) for i in pred] \n",
    "plt.figure(figsize=(8,6))\n",
    "plt.scatter(w1, MSE, label=\"data\", color=\"orange\", s=25)\n",
    "plt.plot(w1, MSE, color='green', label='relationship line', linewidth=2.5)\n",
    "plt.title('Relationship between w1 and MSE')\n",
    "plt.xlabel('w1')\n",
    "plt.ylabel('MSE')\n",
    "plt.legend()\n",
    "plt.show()\n",
    "print('Minima:', min(MSE))\n",
    "print('Index at minima:', w1[MSE.index(min(MSE))])"
   ]
  },
  {
   "cell_type": "markdown",
   "metadata": {},
   "source": []
  }
 ],
 "metadata": {
  "kernelspec": {
   "display_name": "Python 3",
   "language": "python",
   "name": "python3"
  },
  "language_info": {
   "codemirror_mode": {
    "name": "ipython",
    "version": 3
   },
   "file_extension": ".py",
   "mimetype": "text/x-python",
   "name": "python",
   "nbconvert_exporter": "python",
   "pygments_lexer": "ipython3",
   "version": "3.8.8"
  }
 },
 "nbformat": 4,
 "nbformat_minor": 4
}
